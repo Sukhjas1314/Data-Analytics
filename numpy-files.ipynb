{
 "cells": [
  {
   "cell_type": "markdown",
   "metadata": {},
   "source": [
    "# Numpy Practice"
   ]
  },
  {
   "cell_type": "code",
   "execution_count": 2,
   "metadata": {},
   "outputs": [],
   "source": [
    "import numpy as np"
   ]
  },
  {
   "cell_type": "code",
   "execution_count": 3,
   "metadata": {},
   "outputs": [
    {
     "name": "stdout",
     "output_type": "stream",
     "text": [
      "a = [20 30 40]\n",
      "\n",
      "b = [60 70 80]\n",
      "\n",
      "a + b = [ 80 100 120]\n",
      "\n",
      "a * b = [1200 2100 3200]\n",
      "\n",
      "b - a = [40 40 40]\n",
      "\n",
      "b / a = [3.         2.33333333 2.        ]\n"
     ]
    }
   ],
   "source": [
    "a = np.array([20,30,40])\n",
    "b = np.array([60,70,80])\n",
    "print('a =',a)\n",
    "print()\n",
    "print('b =',b)\n",
    "print()\n",
    "print('a + b =',a+b)\n",
    "print()\n",
    "print('a * b =',a*b)\n",
    "print()\n",
    "print('b - a =',b-a)\n",
    "print()\n",
    "print('b / a =',b/a)"
   ]
  },
  {
   "cell_type": "code",
   "execution_count": 4,
   "metadata": {},
   "outputs": [
    {
     "name": "stdout",
     "output_type": "stream",
     "text": [
      "['40' '50' '60']\n"
     ]
    }
   ],
   "source": [
    "c = np.array([40,50,'60'])\n",
    "print(c)"
   ]
  },
  {
   "cell_type": "code",
   "execution_count": 5,
   "metadata": {},
   "outputs": [
    {
     "name": "stdout",
     "output_type": "stream",
     "text": [
      "[20, 30, 40, 20, 30, 40, 20, 30, 40, 20, 30, 40, 20, 30, 40]\n"
     ]
    }
   ],
   "source": [
    "l1 = [20,30,40]\n",
    "l2 = 5\n",
    "print(l1*l2)"
   ]
  },
  {
   "cell_type": "code",
   "execution_count": 6,
   "metadata": {},
   "outputs": [
    {
     "name": "stdout",
     "output_type": "stream",
     "text": [
      "[[20, 30], [40, 50, 60]]\n"
     ]
    }
   ],
   "source": [
    "l3 = [[20,30],[40,50,60]]\n",
    "print(l3)"
   ]
  },
  {
   "cell_type": "code",
   "execution_count": 7,
   "metadata": {},
   "outputs": [
    {
     "name": "stdout",
     "output_type": "stream",
     "text": [
      "[[20 30 40]\n",
      " [50 60 70]]\n"
     ]
    }
   ],
   "source": [
    "l4 = np.array([[20,30,40],[50,60,70]])\n",
    "print(l4)"
   ]
  },
  {
   "cell_type": "code",
   "execution_count": 8,
   "metadata": {},
   "outputs": [
    {
     "name": "stdout",
     "output_type": "stream",
     "text": [
      "<class 'numpy.ndarray'>\n"
     ]
    }
   ],
   "source": [
    "print(type(l4))"
   ]
  },
  {
   "cell_type": "code",
   "execution_count": 9,
   "metadata": {},
   "outputs": [
    {
     "name": "stdout",
     "output_type": "stream",
     "text": [
      "[20 30 40]\n",
      "\n",
      "[50]\n",
      "\n",
      "[20 30 40 50]\n"
     ]
    }
   ],
   "source": [
    "l5 = np.array([20,30,40,50])\n",
    "print(l5[0:3])\n",
    "print()\n",
    "print(l5[3:])\n",
    "print()\n",
    "print(l5[:])"
   ]
  },
  {
   "cell_type": "code",
   "execution_count": 10,
   "metadata": {},
   "outputs": [
    {
     "name": "stdout",
     "output_type": "stream",
     "text": [
      "[6 7]\n",
      "(3, 4)\n",
      "12\n",
      "2\n",
      "int64\n"
     ]
    }
   ],
   "source": [
    "l6 = np.array([[1,2,3,4],[5,6,7,8],[9,10,11,12]])\n",
    "print(l6[1,1:3])\n",
    "print(np.shape(l6))\n",
    "print(np.size(l6))\n",
    "print(np.ndim(l6))\n",
    "print(l6.dtype)"
   ]
  },
  {
   "cell_type": "code",
   "execution_count": 11,
   "metadata": {},
   "outputs": [
    {
     "name": "stdout",
     "output_type": "stream",
     "text": [
      "[30 40 50 60 70]\n",
      "\n",
      "(5,)\n",
      "\n",
      "5\n",
      "\n",
      "5\n",
      "\n",
      "<class 'numpy.ndarray'>\n",
      "\n",
      "int64\n",
      "\n",
      "['30' '40' '50' '60' '70']\n"
     ]
    }
   ],
   "source": [
    "ar = [30,40,50,60,70]\n",
    "arr = np.array(ar)\n",
    "print(arr) \n",
    "print()\n",
    "print(arr.shape)        # rows,cols\n",
    "print()\n",
    "print(len(arr))         # no. of nested values\n",
    "print()\n",
    "print(np.size(arr))     # no. of elements\n",
    "print()\n",
    "print(type(arr))        # datatype of variable\n",
    "print()\n",
    "print(arr.dtype)        # datatype of array\n",
    "print()\n",
    "print(arr.astype(str))  # datatype conversion"
   ]
  },
  {
   "cell_type": "code",
   "execution_count": 12,
   "metadata": {},
   "outputs": [
    {
     "name": "stdout",
     "output_type": "stream",
     "text": [
      "[[ 90 110 130]\n",
      " [ 40  60  80]]\n",
      "\n",
      "[[ 90 110 130]\n",
      " [ 40  60  80]]\n"
     ]
    }
   ],
   "source": [
    "arr1= np.array([[30,40,50],[10,20,30]])\n",
    "arr2 = np.array([[60,70,80],[30,40,50]])\n",
    "print(arr1 + arr2)      # using operator\n",
    "print()\n",
    "print(np.add(arr1,arr2))    # using numpy"
   ]
  },
  {
   "cell_type": "code",
   "execution_count": 13,
   "metadata": {},
   "outputs": [
    {
     "name": "stdout",
     "output_type": "stream",
     "text": [
      "[[30 30 30]\n",
      " [20 20 20]]\n",
      "\n",
      "[[30 30 30]\n",
      " [20 20 20]]\n"
     ]
    }
   ],
   "source": [
    "print(arr2 - arr1)      # using operator\n",
    "print()\n",
    "print(np.subtract(arr2,arr1))    # using numpy"
   ]
  },
  {
   "cell_type": "code",
   "execution_count": 14,
   "metadata": {},
   "outputs": [
    {
     "name": "stdout",
     "output_type": "stream",
     "text": [
      "[[1800 2800 4000]\n",
      " [ 300  800 1500]]\n",
      "\n",
      "[[1800 2800 4000]\n",
      " [ 300  800 1500]]\n"
     ]
    }
   ],
   "source": [
    "print(arr1 * arr2)      # using operator\n",
    "print()\n",
    "print(np.multiply(arr1,arr2))    # using numpy"
   ]
  },
  {
   "cell_type": "code",
   "execution_count": 15,
   "metadata": {},
   "outputs": [
    {
     "name": "stdout",
     "output_type": "stream",
     "text": [
      "[[0.5        0.57142857 0.625     ]\n",
      " [0.33333333 0.5        0.6       ]]\n",
      "\n",
      "[[0.5        0.57142857 0.625     ]\n",
      " [0.33333333 0.5        0.6       ]]\n"
     ]
    }
   ],
   "source": [
    "print(arr1 / arr2)      # using operator\n",
    "print()\n",
    "print(np.divide(arr1,arr2))    # using numpy"
   ]
  },
  {
   "cell_type": "code",
   "execution_count": 16,
   "metadata": {},
   "outputs": [
    {
     "name": "stdout",
     "output_type": "stream",
     "text": [
      "[ 9 16  4  1]\n"
     ]
    }
   ],
   "source": [
    "arr1= np.array([3,4,2,1])\n",
    "arr3 = np.array([2])\n",
    "print(np.power(arr1,arr3))    # using numpy"
   ]
  },
  {
   "cell_type": "code",
   "execution_count": 17,
   "metadata": {},
   "outputs": [
    {
     "name": "stdout",
     "output_type": "stream",
     "text": [
      "[3. 4. 2. 1.]\n"
     ]
    }
   ],
   "source": [
    "arr4 = np.array([9,16,4,1])\n",
    "print(np.sqrt(arr4))"
   ]
  },
  {
   "cell_type": "code",
   "execution_count": 18,
   "metadata": {},
   "outputs": [
    {
     "name": "stdout",
     "output_type": "stream",
     "text": [
      "[30, 40, 50, 20, 30, 40]\n"
     ]
    }
   ],
   "source": [
    "a = [30,40,50]\n",
    "b = [20,30,40]\n",
    "print(a+b)"
   ]
  },
  {
   "cell_type": "code",
   "execution_count": 19,
   "metadata": {},
   "outputs": [
    {
     "name": "stdout",
     "output_type": "stream",
     "text": [
      "[30 40 50  5  6  7]\n"
     ]
    }
   ],
   "source": [
    "# Concatenation\n",
    "arr1 = np.array([30,40,50])\n",
    "arr2 = np.array([5,6,7])\n",
    "print(np.concatenate([arr1,arr2]))"
   ]
  },
  {
   "cell_type": "code",
   "execution_count": 20,
   "metadata": {},
   "outputs": [
    {
     "name": "stdout",
     "output_type": "stream",
     "text": [
      "[[30 40  5  5]\n",
      " [50 30  6  7]]\n"
     ]
    }
   ],
   "source": [
    "arr1 = np.array([[30,40],[50,30]])\n",
    "arr2 = np.array([[5,5],[6,7]])\n",
    "print(np.concatenate([arr1,arr2],axis = 1))"
   ]
  },
  {
   "cell_type": "code",
   "execution_count": 21,
   "metadata": {},
   "outputs": [
    {
     "name": "stdout",
     "output_type": "stream",
     "text": [
      "[[30 40]\n",
      " [50 30]\n",
      " [ 5  5]\n",
      " [ 6  7]]\n"
     ]
    }
   ],
   "source": [
    "print(np.concatenate([arr1,arr2],axis = 0))"
   ]
  },
  {
   "cell_type": "code",
   "execution_count": 22,
   "metadata": {},
   "outputs": [
    {
     "name": "stdout",
     "output_type": "stream",
     "text": [
      "[[30 40  5  5]\n",
      " [50 30  6  7]]\n"
     ]
    }
   ],
   "source": [
    "print(np.hstack([arr1,arr2]))     # horizontal concatenation"
   ]
  },
  {
   "cell_type": "code",
   "execution_count": 23,
   "metadata": {},
   "outputs": [
    {
     "name": "stdout",
     "output_type": "stream",
     "text": [
      "[[30 40]\n",
      " [50 30]\n",
      " [ 5  5]\n",
      " [ 6  7]]\n"
     ]
    }
   ],
   "source": [
    "print(np.vstack([arr1,arr2]))     # vertical concatenation"
   ]
  },
  {
   "cell_type": "code",
   "execution_count": 24,
   "metadata": {},
   "outputs": [
    {
     "name": "stdout",
     "output_type": "stream",
     "text": [
      "[60 70]\n"
     ]
    }
   ],
   "source": [
    "a = np.array([20,30,40,50,60,70])\n",
    "b = np.array_split(a,3)\n",
    "print(b[2])"
   ]
  },
  {
   "cell_type": "code",
   "execution_count": 25,
   "metadata": {},
   "outputs": [
    {
     "name": "stdout",
     "output_type": "stream",
     "text": [
      "[20 30 40 50 60 70]\n"
     ]
    }
   ],
   "source": [
    "a = np.array([[20,30],[40,50]])\n",
    "print(np.append(a,[60,70]))"
   ]
  },
  {
   "cell_type": "code",
   "execution_count": 26,
   "metadata": {},
   "outputs": [
    {
     "name": "stdout",
     "output_type": "stream",
     "text": [
      "[[20 50 30 20]\n",
      " [40 50 50 20]]\n"
     ]
    }
   ],
   "source": [
    "print(np.insert(a,[1,2],[50,20],axis=1))"
   ]
  },
  {
   "cell_type": "code",
   "execution_count": 27,
   "metadata": {},
   "outputs": [
    {
     "name": "stdout",
     "output_type": "stream",
     "text": [
      "[[20 30]\n",
      " [40 50]]\n",
      "\n",
      "[[20]\n",
      " [40]]\n"
     ]
    }
   ],
   "source": [
    "print(a)\n",
    "print()\n",
    "print(np.delete(a,1,axis = 1))"
   ]
  },
  {
   "cell_type": "code",
   "execution_count": 28,
   "metadata": {},
   "outputs": [
    {
     "name": "stdout",
     "output_type": "stream",
     "text": [
      "[2 3 4 6 7 8]\n"
     ]
    }
   ],
   "source": [
    "b = np.array([7,8,3,6,2,4])\n",
    "print(np.sort(b))"
   ]
  },
  {
   "cell_type": "code",
   "execution_count": 29,
   "metadata": {},
   "outputs": [
    {
     "name": "stdout",
     "output_type": "stream",
     "text": [
      "(array([5]),)\n",
      "0\n"
     ]
    }
   ],
   "source": [
    "s = np.where(b == 4)\n",
    "print(s)\n",
    "ss = np.searchsorted(b,4)\n",
    "print(ss)"
   ]
  },
  {
   "cell_type": "code",
   "execution_count": 30,
   "metadata": {},
   "outputs": [
    {
     "name": "stdout",
     "output_type": "stream",
     "text": [
      "[20 40]\n"
     ]
    }
   ],
   "source": [
    "ar = np.array([20,30,40,50])\n",
    "fa = [True,False,True,False]\n",
    "\n",
    "new = ar[fa]\n",
    "print(new)"
   ]
  },
  {
   "cell_type": "code",
   "execution_count": 31,
   "metadata": {},
   "outputs": [
    {
     "name": "stdout",
     "output_type": "stream",
     "text": [
      "[40 50]\n"
     ]
    }
   ],
   "source": [
    "fa = ar>35\n",
    "new = ar[fa]\n",
    "print(new)"
   ]
  },
  {
   "cell_type": "code",
   "execution_count": 34,
   "metadata": {},
   "outputs": [
    {
     "name": "stdout",
     "output_type": "stream",
     "text": [
      "[20 30 40 50]\n"
     ]
    }
   ],
   "source": [
    "fa = ar%5==0\n",
    "new = ar[fa]\n",
    "print(new)"
   ]
  },
  {
   "cell_type": "code",
   "execution_count": 39,
   "metadata": {},
   "outputs": [
    {
     "name": "stdout",
     "output_type": "stream",
     "text": [
      "190\n",
      "20\n",
      "70\n",
      "4\n",
      "47.5\n",
      "[ 20  60 120 190]\n",
      "[     20     800   48000 3360000]\n"
     ]
    }
   ],
   "source": [
    "a = np.array([20,40,60,70])\n",
    "print(np.sum(a))\n",
    "print(np.min(a))\n",
    "print(np.max(a))\n",
    "print(np.size(a))\n",
    "print(np.mean(a))\n",
    "print(np.cumsum(a))\n",
    "print(np.cumprod(a))"
   ]
  },
  {
   "cell_type": "code",
   "execution_count": 47,
   "metadata": {},
   "outputs": [
    {
     "name": "stdout",
     "output_type": "stream",
     "text": [
      "[100 150 199 200 250 130] \n",
      " [10 50 30 40 30 10]\n",
      "\n",
      "[[ 100  150  199  200  250  130]\n",
      " [1000 7500 5970 8000 7500 1300]]\n",
      "\n",
      "31270\n"
     ]
    }
   ],
   "source": [
    "a = [100,150,199,200,250,130]\n",
    "b = [10,50,30,40,30,10]\n",
    "\n",
    "price = np.array(a)\n",
    "quantity = np.array(b)\n",
    "\n",
    "print(price,\"\\n\",quantity)\n",
    "print()\n",
    "c = np.cumprod([price,quantity],axis=0)\n",
    "print(c)\n",
    "\n",
    "print()\n",
    "print(c[1].sum())"
   ]
  },
  {
   "cell_type": "code",
   "execution_count": 48,
   "metadata": {},
   "outputs": [
    {
     "name": "stdout",
     "output_type": "stream",
     "text": [
      "202.25\n",
      "194.0\n"
     ]
    }
   ],
   "source": [
    "baked_food = [200,300,150,130,200,280,170,188]\n",
    "\n",
    "a = np.array(baked_food)\n",
    "print(np.mean(baked_food))\n",
    "print(np.median(baked_food))"
   ]
  },
  {
   "cell_type": "code",
   "execution_count": 52,
   "metadata": {},
   "outputs": [
    {
     "name": "stdout",
     "output_type": "stream",
     "text": [
      "200\n",
      "55.68157235567257\n",
      "3100.4375\n"
     ]
    }
   ],
   "source": [
    "import statistics as stats\n",
    "\n",
    "print(stats.mode(baked_food))\n",
    "print(np.std(baked_food))\n",
    "print(np.var(baked_food))"
   ]
  },
  {
   "cell_type": "code",
   "execution_count": 53,
   "metadata": {},
   "outputs": [
    {
     "name": "stdout",
     "output_type": "stream",
     "text": [
      "[[1.         0.99015454]\n",
      " [0.99015454 1.        ]]\n"
     ]
    }
   ],
   "source": [
    "# -1 represent inversely proportional relationship\n",
    "# 1 represent proportional relationship\n",
    "# 0 represent no relationship\n",
    "\n",
    "tobacco_consumption = [30,50,10,30,50,40]\n",
    "deaths = [100,120,70,100,120,112]\n",
    "\n",
    "print(np.corrcoef([tobacco_consumption,deaths]))"
   ]
  },
  {
   "cell_type": "code",
   "execution_count": 54,
   "metadata": {},
   "outputs": [
    {
     "name": "stdout",
     "output_type": "stream",
     "text": [
      "[[ 1.         -0.66621445]\n",
      " [-0.66621445  1.        ]]\n"
     ]
    }
   ],
   "source": [
    "price = [300,100,350,150,200]\n",
    "sales = [10,20,7,17,3]\n",
    "\n",
    "print(np.corrcoef([price,sales]))"
   ]
  },
  {
   "cell_type": "code",
   "execution_count": null,
   "metadata": {},
   "outputs": [],
   "source": []
  }
 ],
 "metadata": {
  "kernelspec": {
   "display_name": "Python 3",
   "language": "python",
   "name": "python3"
  },
  "language_info": {
   "codemirror_mode": {
    "name": "ipython",
    "version": 3
   },
   "file_extension": ".py",
   "mimetype": "text/x-python",
   "name": "python",
   "nbconvert_exporter": "python",
   "pygments_lexer": "ipython3",
   "version": "3.12.1"
  }
 },
 "nbformat": 4,
 "nbformat_minor": 2
}
